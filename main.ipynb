{
 "cells": [
  {
   "cell_type": "markdown",
   "id": "5f4187d9",
   "metadata": {},
   "source": [
    "# Laboratorio 2. Deep Learning\n",
    "### Modelos de series de tiempo con LSTM "
   ]
  },
  {
   "cell_type": "code",
   "execution_count": 2,
   "id": "288ac4b9",
   "metadata": {},
   "outputs": [],
   "source": [
    "import pandas as pd\n",
    "import numpy as np\n",
    "import matplotlib.pyplot as plt\n",
    "import statsmodels.tsa as tsa\n",
    "import statsmodels as sm\n",
    "from datetime import datetime\n",
    "import os\n",
    "from statsmodels.tsa.seasonal import seasonal_decompose\n",
    "from statsmodels.tsa.stattools import adfuller\n",
    "import tensorflow as tf\n",
    "from sklearn.preprocessing import StandardScaler\n",
    "from keras.models import Sequential\n",
    "from keras.layers import Dense\n",
    "from keras.layers import LSTM\n",
    "from sklearn.metrics import mean_squared_error\n",
    "\n",
    "import sys\n",
    "import os"
   ]
  },
  {
   "cell_type": "code",
   "execution_count": 6,
   "id": "df3ba7ce",
   "metadata": {},
   "outputs": [
    {
     "name": "stdout",
     "output_type": "stream",
     "text": [
      "\n",
      " Parsed Data:\n"
     ]
    },
    {
     "data": {
      "text/html": [
       "<div>\n",
       "<style scoped>\n",
       "    .dataframe tbody tr th:only-of-type {\n",
       "        vertical-align: middle;\n",
       "    }\n",
       "\n",
       "    .dataframe tbody tr th {\n",
       "        vertical-align: top;\n",
       "    }\n",
       "\n",
       "    .dataframe thead th {\n",
       "        text-align: right;\n",
       "    }\n",
       "</style>\n",
       "<table border=\"1\" class=\"dataframe\">\n",
       "  <thead>\n",
       "    <tr style=\"text-align: right;\">\n",
       "      <th></th>\n",
       "      <th>Gasolina regular</th>\n",
       "      <th>Gasolina superior</th>\n",
       "      <th>Diesel bajo azufre</th>\n",
       "      <th>Diesel ultra bajo azufre</th>\n",
       "      <th>Diesel alto azufre</th>\n",
       "      <th>Mes</th>\n",
       "      <th>Año</th>\n",
       "      <th>Total_mensual</th>\n",
       "    </tr>\n",
       "    <tr>\n",
       "      <th>Fecha</th>\n",
       "      <th></th>\n",
       "      <th></th>\n",
       "      <th></th>\n",
       "      <th></th>\n",
       "      <th></th>\n",
       "      <th></th>\n",
       "      <th></th>\n",
       "      <th></th>\n",
       "    </tr>\n",
       "  </thead>\n",
       "  <tbody>\n",
       "    <tr>\n",
       "      <th>2001-01-01</th>\n",
       "      <td>177776.50</td>\n",
       "      <td>373963.96</td>\n",
       "      <td>0.0</td>\n",
       "      <td>0.0</td>\n",
       "      <td>566101.99</td>\n",
       "      <td>1.0</td>\n",
       "      <td>2001.0</td>\n",
       "      <td>1117842.45</td>\n",
       "    </tr>\n",
       "    <tr>\n",
       "      <th>2001-02-01</th>\n",
       "      <td>123115.99</td>\n",
       "      <td>243091.07</td>\n",
       "      <td>0.0</td>\n",
       "      <td>0.0</td>\n",
       "      <td>489525.80</td>\n",
       "      <td>2.0</td>\n",
       "      <td>2001.0</td>\n",
       "      <td>855732.86</td>\n",
       "    </tr>\n",
       "    <tr>\n",
       "      <th>2001-03-01</th>\n",
       "      <td>161726.42</td>\n",
       "      <td>312084.38</td>\n",
       "      <td>0.0</td>\n",
       "      <td>0.0</td>\n",
       "      <td>575559.68</td>\n",
       "      <td>3.0</td>\n",
       "      <td>2001.0</td>\n",
       "      <td>1049370.48</td>\n",
       "    </tr>\n",
       "    <tr>\n",
       "      <th>2001-04-01</th>\n",
       "      <td>127338.74</td>\n",
       "      <td>285054.89</td>\n",
       "      <td>0.0</td>\n",
       "      <td>0.0</td>\n",
       "      <td>437745.42</td>\n",
       "      <td>4.0</td>\n",
       "      <td>2001.0</td>\n",
       "      <td>850139.05</td>\n",
       "    </tr>\n",
       "    <tr>\n",
       "      <th>2001-05-01</th>\n",
       "      <td>168730.19</td>\n",
       "      <td>300913.67</td>\n",
       "      <td>0.0</td>\n",
       "      <td>0.0</td>\n",
       "      <td>552609.13</td>\n",
       "      <td>5.0</td>\n",
       "      <td>2001.0</td>\n",
       "      <td>1022252.99</td>\n",
       "    </tr>\n",
       "  </tbody>\n",
       "</table>\n",
       "</div>"
      ],
      "text/plain": [
       "            Gasolina regular  Gasolina superior  Diesel bajo azufre  \\\n",
       "Fecha                                                                 \n",
       "2001-01-01         177776.50          373963.96                 0.0   \n",
       "2001-02-01         123115.99          243091.07                 0.0   \n",
       "2001-03-01         161726.42          312084.38                 0.0   \n",
       "2001-04-01         127338.74          285054.89                 0.0   \n",
       "2001-05-01         168730.19          300913.67                 0.0   \n",
       "\n",
       "            Diesel ultra bajo azufre  Diesel alto azufre  Mes     Año  \\\n",
       "Fecha                                                                   \n",
       "2001-01-01                       0.0           566101.99  1.0  2001.0   \n",
       "2001-02-01                       0.0           489525.80  2.0  2001.0   \n",
       "2001-03-01                       0.0           575559.68  3.0  2001.0   \n",
       "2001-04-01                       0.0           437745.42  4.0  2001.0   \n",
       "2001-05-01                       0.0           552609.13  5.0  2001.0   \n",
       "\n",
       "            Total_mensual  \n",
       "Fecha                      \n",
       "2001-01-01     1117842.45  \n",
       "2001-02-01      855732.86  \n",
       "2001-03-01     1049370.48  \n",
       "2001-04-01      850139.05  \n",
       "2001-05-01     1022252.99  "
      ]
     },
     "execution_count": 6,
     "metadata": {},
     "output_type": "execute_result"
    }
   ],
   "source": [
    "importacion = pd.read_csv('./data/importacion.csv',index_col='Fecha')\n",
    "print ('\\n Parsed Data:')\n",
    "importacion.head()"
   ]
  },
  {
   "cell_type": "code",
   "execution_count": 12,
   "id": "a1a5f2fb",
   "metadata": {},
   "outputs": [
    {
     "name": "stdout",
     "output_type": "stream",
     "text": [
      "      Año  Gasolina regular  Gasolina superior  Diesel alto azufre\n",
      "0  2001.0         233643.75          373963.96          575559.680\n",
      "1  2002.0         222408.00          440677.81          703749.810\n",
      "2  2003.0         269981.86          459025.69          873103.096\n",
      "3  2004.0         275539.38          486880.82          809194.950\n",
      "4  2005.0         266018.37          566618.55         1212610.530\n"
     ]
    },
    {
     "data": {
      "image/png": "[encoded data removed]",
      "text/plain": [
       "<Figure size 1000x600 with 1 Axes>"
      ]
     },
     "metadata": {},
     "output_type": "display_data"
    }
   ],
   "source": [
    "importacion = importacion.sort_index()\n",
    "\n",
    "#picos en importaciones por anio por tipo de combustibles\n",
    "\n",
    "columnas_necesarias = [\n",
    "    \"Gasolina regular\", \"Gasolina superior\", \n",
    "     \"Diesel alto azufre\" #\"Diesel bajo azufre\", \"Diesel ultra bajo azufre\",\n",
    "]\n",
    "\n",
    "\n",
    "for col in columnas_necesarias:\n",
    "    importacion[col] = pd.to_numeric(importacion[col], errors=\"coerce\")\n",
    "\n",
    "picos_por_anio = (\n",
    "    importacion.groupby(\"Año\")[columnas_necesarias]\n",
    "    .max()  # el pico anual\n",
    "    .reset_index()\n",
    ")\n",
    "\n",
    "print(picos_por_anio.head()) \n",
    "\n",
    "plt.figure(figsize=(10,6))\n",
    "for col in columnas_necesarias:\n",
    "    plt.plot(picos_por_anio[\"Año\"], picos_por_anio[col], marker='o', label=col)\n",
    "\n",
    "plt.title(\"Picos de importación anual por tipo de combustible\")\n",
    "plt.xlabel(\"Año\")\n",
    "plt.ylabel(\"Barriles (pico mensual)\")\n",
    "plt.legend()\n",
    "plt.grid(True)\n",
    "plt.show()\n"
   ]
  },
  {
   "cell_type": "code",
   "execution_count": 22,
   "id": "6ba862da",
   "metadata": {},
   "outputs": [
    {
     "data": {
      "text/html": [
       "<div>\n",
       "<style scoped>\n",
       "    .dataframe tbody tr th:only-of-type {\n",
       "        vertical-align: middle;\n",
       "    }\n",
       "\n",
       "    .dataframe tbody tr th {\n",
       "        vertical-align: top;\n",
       "    }\n",
       "\n",
       "    .dataframe thead th {\n",
       "        text-align: right;\n",
       "    }\n",
       "</style>\n",
       "<table border=\"1\" class=\"dataframe\">\n",
       "  <thead>\n",
       "    <tr style=\"text-align: right;\">\n",
       "      <th></th>\n",
       "      <th>Año</th>\n",
       "      <th>Gasolina regular</th>\n",
       "      <th>Gasolina superior</th>\n",
       "      <th>Diesel alto azufre</th>\n",
       "    </tr>\n",
       "  </thead>\n",
       "  <tbody>\n",
       "    <tr>\n",
       "      <th>0</th>\n",
       "      <td>2001.0</td>\n",
       "      <td>233643.75</td>\n",
       "      <td>373963.96</td>\n",
       "      <td>575559.680</td>\n",
       "    </tr>\n",
       "    <tr>\n",
       "      <th>1</th>\n",
       "      <td>2002.0</td>\n",
       "      <td>222408.00</td>\n",
       "      <td>440677.81</td>\n",
       "      <td>703749.810</td>\n",
       "    </tr>\n",
       "    <tr>\n",
       "      <th>2</th>\n",
       "      <td>2003.0</td>\n",
       "      <td>269981.86</td>\n",
       "      <td>459025.69</td>\n",
       "      <td>873103.096</td>\n",
       "    </tr>\n",
       "    <tr>\n",
       "      <th>3</th>\n",
       "      <td>2004.0</td>\n",
       "      <td>275539.38</td>\n",
       "      <td>486880.82</td>\n",
       "      <td>809194.950</td>\n",
       "    </tr>\n",
       "    <tr>\n",
       "      <th>4</th>\n",
       "      <td>2005.0</td>\n",
       "      <td>266018.37</td>\n",
       "      <td>566618.55</td>\n",
       "      <td>1212610.530</td>\n",
       "    </tr>\n",
       "    <tr>\n",
       "      <th>5</th>\n",
       "      <td>2006.0</td>\n",
       "      <td>366193.77</td>\n",
       "      <td>711860.77</td>\n",
       "      <td>1220719.640</td>\n",
       "    </tr>\n",
       "    <tr>\n",
       "      <th>6</th>\n",
       "      <td>2007.0</td>\n",
       "      <td>351306.27</td>\n",
       "      <td>545587.63</td>\n",
       "      <td>1118432.250</td>\n",
       "    </tr>\n",
       "    <tr>\n",
       "      <th>7</th>\n",
       "      <td>2008.0</td>\n",
       "      <td>358036.44</td>\n",
       "      <td>570256.98</td>\n",
       "      <td>1095743.350</td>\n",
       "    </tr>\n",
       "    <tr>\n",
       "      <th>8</th>\n",
       "      <td>2009.0</td>\n",
       "      <td>588346.36</td>\n",
       "      <td>639524.61</td>\n",
       "      <td>1144960.660</td>\n",
       "    </tr>\n",
       "    <tr>\n",
       "      <th>9</th>\n",
       "      <td>2010.0</td>\n",
       "      <td>433108.23</td>\n",
       "      <td>652210.77</td>\n",
       "      <td>1135293.920</td>\n",
       "    </tr>\n",
       "    <tr>\n",
       "      <th>10</th>\n",
       "      <td>2011.0</td>\n",
       "      <td>367820.54</td>\n",
       "      <td>534925.36</td>\n",
       "      <td>1033948.690</td>\n",
       "    </tr>\n",
       "    <tr>\n",
       "      <th>11</th>\n",
       "      <td>2012.0</td>\n",
       "      <td>374301.51</td>\n",
       "      <td>600094.03</td>\n",
       "      <td>1324780.960</td>\n",
       "    </tr>\n",
       "    <tr>\n",
       "      <th>12</th>\n",
       "      <td>2013.0</td>\n",
       "      <td>439386.62</td>\n",
       "      <td>532379.66</td>\n",
       "      <td>1202187.850</td>\n",
       "    </tr>\n",
       "    <tr>\n",
       "      <th>13</th>\n",
       "      <td>2014.0</td>\n",
       "      <td>491072.11</td>\n",
       "      <td>583081.57</td>\n",
       "      <td>1595698.560</td>\n",
       "    </tr>\n",
       "    <tr>\n",
       "      <th>14</th>\n",
       "      <td>2015.0</td>\n",
       "      <td>574547.76</td>\n",
       "      <td>724273.97</td>\n",
       "      <td>1324421.960</td>\n",
       "    </tr>\n",
       "    <tr>\n",
       "      <th>15</th>\n",
       "      <td>2016.0</td>\n",
       "      <td>567786.57</td>\n",
       "      <td>771024.11</td>\n",
       "      <td>1498844.950</td>\n",
       "    </tr>\n",
       "    <tr>\n",
       "      <th>16</th>\n",
       "      <td>2017.0</td>\n",
       "      <td>681303.11</td>\n",
       "      <td>803216.88</td>\n",
       "      <td>1406022.430</td>\n",
       "    </tr>\n",
       "    <tr>\n",
       "      <th>17</th>\n",
       "      <td>2018.0</td>\n",
       "      <td>726044.35</td>\n",
       "      <td>784601.77</td>\n",
       "      <td>0.000</td>\n",
       "    </tr>\n",
       "    <tr>\n",
       "      <th>18</th>\n",
       "      <td>2019.0</td>\n",
       "      <td>896841.31</td>\n",
       "      <td>797580.75</td>\n",
       "      <td>0.000</td>\n",
       "    </tr>\n",
       "    <tr>\n",
       "      <th>19</th>\n",
       "      <td>2020.0</td>\n",
       "      <td>861840.54</td>\n",
       "      <td>809640.18</td>\n",
       "      <td>0.000</td>\n",
       "    </tr>\n",
       "    <tr>\n",
       "      <th>20</th>\n",
       "      <td>2021.0</td>\n",
       "      <td>844430.03</td>\n",
       "      <td>1227173.53</td>\n",
       "      <td>0.000</td>\n",
       "    </tr>\n",
       "    <tr>\n",
       "      <th>21</th>\n",
       "      <td>2022.0</td>\n",
       "      <td>987872.05</td>\n",
       "      <td>947226.27</td>\n",
       "      <td>0.000</td>\n",
       "    </tr>\n",
       "    <tr>\n",
       "      <th>22</th>\n",
       "      <td>2023.0</td>\n",
       "      <td>947633.29</td>\n",
       "      <td>685183.06</td>\n",
       "      <td>0.000</td>\n",
       "    </tr>\n",
       "    <tr>\n",
       "      <th>23</th>\n",
       "      <td>2024.0</td>\n",
       "      <td>1141365.94</td>\n",
       "      <td>822168.56</td>\n",
       "      <td>0.000</td>\n",
       "    </tr>\n",
       "  </tbody>\n",
       "</table>\n",
       "</div>"
      ],
      "text/plain": [
       "       Año  Gasolina regular  Gasolina superior  Diesel alto azufre\n",
       "0   2001.0         233643.75          373963.96          575559.680\n",
       "1   2002.0         222408.00          440677.81          703749.810\n",
       "2   2003.0         269981.86          459025.69          873103.096\n",
       "3   2004.0         275539.38          486880.82          809194.950\n",
       "4   2005.0         266018.37          566618.55         1212610.530\n",
       "5   2006.0         366193.77          711860.77         1220719.640\n",
       "6   2007.0         351306.27          545587.63         1118432.250\n",
       "7   2008.0         358036.44          570256.98         1095743.350\n",
       "8   2009.0         588346.36          639524.61         1144960.660\n",
       "9   2010.0         433108.23          652210.77         1135293.920\n",
       "10  2011.0         367820.54          534925.36         1033948.690\n",
       "11  2012.0         374301.51          600094.03         1324780.960\n",
       "12  2013.0         439386.62          532379.66         1202187.850\n",
       "13  2014.0         491072.11          583081.57         1595698.560\n",
       "14  2015.0         574547.76          724273.97         1324421.960\n",
       "15  2016.0         567786.57          771024.11         1498844.950\n",
       "16  2017.0         681303.11          803216.88         1406022.430\n",
       "17  2018.0         726044.35          784601.77               0.000\n",
       "18  2019.0         896841.31          797580.75               0.000\n",
       "19  2020.0         861840.54          809640.18               0.000\n",
       "20  2021.0         844430.03         1227173.53               0.000\n",
       "21  2022.0         987872.05          947226.27               0.000\n",
       "22  2023.0         947633.29          685183.06               0.000\n",
       "23  2024.0        1141365.94          822168.56               0.000"
      ]
     },
     "execution_count": 22,
     "metadata": {},
     "output_type": "execute_result"
    }
   ],
   "source": [
    "df = pd.DataFrame(picos_por_anio)\n",
    "df"
   ]
  },
  {
   "cell_type": "code",
   "execution_count": 28,
   "id": "b6ecd69f",
   "metadata": {},
   "outputs": [
    {
     "data": {
      "text/html": [
       "<div>\n",
       "<style scoped>\n",
       "    .dataframe tbody tr th:only-of-type {\n",
       "        vertical-align: middle;\n",
       "    }\n",
       "\n",
       "    .dataframe tbody tr th {\n",
       "        vertical-align: top;\n",
       "    }\n",
       "\n",
       "    .dataframe thead th {\n",
       "        text-align: right;\n",
       "    }\n",
       "</style>\n",
       "<table border=\"1\" class=\"dataframe\">\n",
       "  <thead>\n",
       "    <tr style=\"text-align: right;\">\n",
       "      <th></th>\n",
       "      <th>Gasolina superior</th>\n",
       "    </tr>\n",
       "    <tr>\n",
       "      <th>Año</th>\n",
       "      <th></th>\n",
       "    </tr>\n",
       "  </thead>\n",
       "  <tbody>\n",
       "    <tr>\n",
       "      <th>2001.0</th>\n",
       "      <td>373963.96</td>\n",
       "    </tr>\n",
       "    <tr>\n",
       "      <th>2002.0</th>\n",
       "      <td>440677.81</td>\n",
       "    </tr>\n",
       "    <tr>\n",
       "      <th>2003.0</th>\n",
       "      <td>459025.69</td>\n",
       "    </tr>\n",
       "    <tr>\n",
       "      <th>2004.0</th>\n",
       "      <td>486880.82</td>\n",
       "    </tr>\n",
       "    <tr>\n",
       "      <th>2005.0</th>\n",
       "      <td>566618.55</td>\n",
       "    </tr>\n",
       "    <tr>\n",
       "      <th>2006.0</th>\n",
       "      <td>711860.77</td>\n",
       "    </tr>\n",
       "    <tr>\n",
       "      <th>2007.0</th>\n",
       "      <td>545587.63</td>\n",
       "    </tr>\n",
       "    <tr>\n",
       "      <th>2008.0</th>\n",
       "      <td>570256.98</td>\n",
       "    </tr>\n",
       "    <tr>\n",
       "      <th>2009.0</th>\n",
       "      <td>639524.61</td>\n",
       "    </tr>\n",
       "    <tr>\n",
       "      <th>2010.0</th>\n",
       "      <td>652210.77</td>\n",
       "    </tr>\n",
       "    <tr>\n",
       "      <th>2011.0</th>\n",
       "      <td>534925.36</td>\n",
       "    </tr>\n",
       "    <tr>\n",
       "      <th>2012.0</th>\n",
       "      <td>600094.03</td>\n",
       "    </tr>\n",
       "    <tr>\n",
       "      <th>2013.0</th>\n",
       "      <td>532379.66</td>\n",
       "    </tr>\n",
       "    <tr>\n",
       "      <th>2014.0</th>\n",
       "      <td>583081.57</td>\n",
       "    </tr>\n",
       "    <tr>\n",
       "      <th>2015.0</th>\n",
       "      <td>724273.97</td>\n",
       "    </tr>\n",
       "    <tr>\n",
       "      <th>2016.0</th>\n",
       "      <td>771024.11</td>\n",
       "    </tr>\n",
       "    <tr>\n",
       "      <th>2017.0</th>\n",
       "      <td>803216.88</td>\n",
       "    </tr>\n",
       "    <tr>\n",
       "      <th>2018.0</th>\n",
       "      <td>784601.77</td>\n",
       "    </tr>\n",
       "    <tr>\n",
       "      <th>2019.0</th>\n",
       "      <td>797580.75</td>\n",
       "    </tr>\n",
       "    <tr>\n",
       "      <th>2020.0</th>\n",
       "      <td>809640.18</td>\n",
       "    </tr>\n",
       "    <tr>\n",
       "      <th>2021.0</th>\n",
       "      <td>1227173.53</td>\n",
       "    </tr>\n",
       "    <tr>\n",
       "      <th>2022.0</th>\n",
       "      <td>947226.27</td>\n",
       "    </tr>\n",
       "    <tr>\n",
       "      <th>2023.0</th>\n",
       "      <td>685183.06</td>\n",
       "    </tr>\n",
       "    <tr>\n",
       "      <th>2024.0</th>\n",
       "      <td>822168.56</td>\n",
       "    </tr>\n",
       "  </tbody>\n",
       "</table>\n",
       "</div>"
      ],
      "text/plain": [
       "        Gasolina superior\n",
       "Año                      \n",
       "2001.0          373963.96\n",
       "2002.0          440677.81\n",
       "2003.0          459025.69\n",
       "2004.0          486880.82\n",
       "2005.0          566618.55\n",
       "2006.0          711860.77\n",
       "2007.0          545587.63\n",
       "2008.0          570256.98\n",
       "2009.0          639524.61\n",
       "2010.0          652210.77\n",
       "2011.0          534925.36\n",
       "2012.0          600094.03\n",
       "2013.0          532379.66\n",
       "2014.0          583081.57\n",
       "2015.0          724273.97\n",
       "2016.0          771024.11\n",
       "2017.0          803216.88\n",
       "2018.0          784601.77\n",
       "2019.0          797580.75\n",
       "2020.0          809640.18\n",
       "2021.0         1227173.53\n",
       "2022.0          947226.27\n",
       "2023.0          685183.06\n",
       "2024.0          822168.56"
      ]
     },
     "execution_count": 28,
     "metadata": {},
     "output_type": "execute_result"
    }
   ],
   "source": [
    "df_gasolina_superior = df[['Año', 'Gasolina superior']]\n",
    "df_gasolina_superior = df_gasolina_superior.set_index('Año')\n",
    "df_gasolina_superior"
   ]
  },
  {
   "cell_type": "code",
   "execution_count": 33,
   "id": "e8ca49de",
   "metadata": {},
   "outputs": [
    {
     "data": {
      "image/png": "[encoded data removed]",
      "text/plain": [
       "<Figure size 640x480 with 1 Axes>"
      ]
     },
     "metadata": {},
     "output_type": "display_data"
    }
   ],
   "source": [
    "plt.plot(df_gasolina_superior)\n",
    "plt.gca().set(title=\"Importacion de gasolina superior\", xlabel=\"Año\", ylabel=\"Gasolina superior\")\n",
    "plt.show()\n",
    "df = df_gasolina_superior"
   ]
  },
  {
   "cell_type": "code",
   "execution_count": 34,
   "id": "1a3da80e",
   "metadata": {},
   "outputs": [
    {
     "data": {
      "image/png": "[encoded data removed]",
      "text/plain": [
       "<Figure size 640x480 with 1 Axes>"
      ]
     },
     "metadata": {},
     "output_type": "display_data"
    }
   ],
   "source": [
    "# Se calcula la media móvil y la desviación estandar móvil de los últimos 12 meses.\n",
    "mediaMovil = df.rolling(window=12).mean()\n",
    "deMovil = df.rolling(window=12).std()\n",
    "# Se grafican los resultados.\n",
    "original = plt.plot(df, color=\"blue\", label=\"Original\")\n",
    "media = plt.plot(mediaMovil, color='red', label = 'Media Movil')\n",
    "ds = plt.plot(deMovil,color='black', label = 'Desviación Estándar Móvil')\n",
    "plt.legend(loc = 'best')\n",
    "plt.title('Media y desviación estándar móvil')\n",
    "plt.show(block=False)"
   ]
  },
  {
   "cell_type": "code",
   "execution_count": 36,
   "id": "d4b2767d",
   "metadata": {},
   "outputs": [
    {
     "name": "stdout",
     "output_type": "stream",
     "text": [
      "Resultados del Test de Dickey Fuller\n",
      "Estadístico de prueba        -2.225794\n",
      "p-value                       0.197017\n",
      "# de retardos usados          0.000000\n",
      "# de observaciones usadas    23.000000\n",
      "Critical Value (1%)          -3.752928\n",
      "Critical Value (5%)          -2.998500\n",
      "Critical Value (10%)         -2.638967\n",
      "dtype: float64\n"
     ]
    }
   ],
   "source": [
    "print('Resultados del Test de Dickey Fuller')\n",
    "dfTest = adfuller(df, autolag='AIC')\n",
    "salidaDf = pd.Series(dfTest[0:4], index=['Estadístico de prueba','p-value','# de retardos usados','# de observaciones usadas'])\n",
    "for key,value in dfTest[4].items():\n",
    "        salidaDf['Critical Value (%s)'%key] = value\n",
    "print(salidaDf)"
   ]
  },
  {
   "cell_type": "code",
   "execution_count": 37,
   "id": "e0341d50",
   "metadata": {},
   "outputs": [
    {
     "name": "stdout",
     "output_type": "stream",
     "text": [
      "Resultados del Test de Dickey Fuller para una diferenciación de la serie\n",
      "Estadístico de prueba        -3.653387\n",
      "p-value                       0.004819\n",
      "# de retardos usados          9.000000\n",
      "# de observaciones usadas    14.000000\n",
      "Critical Value (1%)          -4.012034\n",
      "Critical Value (5%)          -3.104184\n",
      "Critical Value (10%)         -2.690987\n",
      "dtype: float64\n"
     ]
    }
   ],
   "source": [
    "print('Resultados del Test de Dickey Fuller para una diferenciación de la serie')\n",
    "ts_air_pas_diff = df.diff()\n",
    "ts_air_pas_diff.fillna(0,inplace=True)\n",
    "dfTest = adfuller(ts_air_pas_diff)\n",
    "salidaDf = pd.Series(dfTest[0:4], index=['Estadístico de prueba','p-value','# de retardos usados','# de observaciones usadas'])\n",
    "for key,value in dfTest[4].items():\n",
    "        salidaDf['Critical Value (%s)'%key] = value\n",
    "print(salidaDf)"
   ]
  },
  {
   "cell_type": "code",
   "execution_count": 38,
   "id": "93c634a7",
   "metadata": {},
   "outputs": [
    {
     "data": {
      "text/plain": [
       "[<matplotlib.lines.Line2D at 0x24d84272900>]"
      ]
     },
     "execution_count": 38,
     "metadata": {},
     "output_type": "execute_result"
    },
    {
     "data": {
      "image/png": "[encoded data removed]",
      "text/plain": [
       "<Figure size 640x480 with 1 Axes>"
      ]
     },
     "metadata": {},
     "output_type": "display_data"
    }
   ],
   "source": [
    "plt.plot(ts_air_pas_diff)"
   ]
  },
  {
   "cell_type": "code",
   "execution_count": 39,
   "id": "e1740eed",
   "metadata": {},
   "outputs": [
    {
     "data": {
      "text/plain": [
       "array([[ 0.35201057],\n",
       "       [-0.00239843],\n",
       "       [ 0.06726739],\n",
       "       [ 0.44744503],\n",
       "       [ 0.92743913],\n",
       "       [-1.355237  ]])"
      ]
     },
     "execution_count": 39,
     "metadata": {},
     "output_type": "execute_result"
    }
   ],
   "source": [
    "scaler = StandardScaler()\n",
    "ts_air_pas_scaled = scaler.fit_transform(ts_air_pas_diff) \n",
    "ts_air_pas_scaled[1:7]"
   ]
  },
  {
   "cell_type": "code",
   "execution_count": 40,
   "id": "7ffc92ee",
   "metadata": {},
   "outputs": [
    {
     "name": "stdout",
     "output_type": "stream",
     "text": [
      "Total registros: 24\n",
      "Train: 14 | Validation: 4 | Test: 6\n"
     ]
    }
   ],
   "source": [
    "total_len = len(ts_air_pas_scaled)\n",
    "\n",
    "# Definir proporciones\n",
    "train_prop = 0.6\n",
    "val_prop = 0.2\n",
    "test_prop = 0.2 \n",
    "\n",
    "# Calcular índices\n",
    "train_end = int(train_prop * total_len)\n",
    "val_end = train_end + int(val_prop * total_len)\n",
    "\n",
    "# Separar sin solapamientos\n",
    "train = ts_air_pas_scaled[:train_end]\n",
    "validation = ts_air_pas_scaled[train_end:val_end]\n",
    "test = ts_air_pas_scaled[val_end:]\n",
    "\n",
    "# Si hace falta, redimensionar (por ejemplo para un LSTM univariante)\n",
    "train = train.reshape(-1, 1)\n",
    "validation = validation.reshape(-1, 1)\n",
    "test = test.reshape(-1, 1)\n",
    "\n",
    "# Verificar tamaños\n",
    "print(f\"Total registros: {total_len}\")\n",
    "print(f\"Train: {len(train)} | Validation: {len(validation)} | Test: {len(test)}\")"
   ]
  },
  {
   "cell_type": "code",
   "execution_count": 41,
   "id": "3ab60ff5",
   "metadata": {},
   "outputs": [
    {
     "data": {
      "text/plain": [
       "(array([[-0.1368453 ],\n",
       "        [ 0.35201057],\n",
       "        [-0.00239843],\n",
       "        [ 0.06726739],\n",
       "        [ 0.44744503],\n",
       "        [ 0.92743913],\n",
       "        [-1.355237  ],\n",
       "        [ 0.04392311],\n",
       "        [ 0.37072378],\n",
       "        [-0.04388554],\n",
       "        [-0.99627196],\n",
       "        [ 0.34068803],\n",
       "        [-0.63303264],\n",
       "        [ 0.23468064]]),\n",
       " numpy.ndarray)"
      ]
     },
     "execution_count": 41,
     "metadata": {},
     "output_type": "execute_result"
    }
   ],
   "source": [
    "train, type(train)"
   ]
  },
  {
   "cell_type": "code",
   "execution_count": 43,
   "id": "23c15192",
   "metadata": {},
   "outputs": [
    {
     "data": {
      "text/plain": [
       "array([[-0.1368453 ],\n",
       "       [ 0.35201057],\n",
       "       [-0.00239843],\n",
       "       [ 0.06726739],\n",
       "       [ 0.44744503],\n",
       "       [ 0.92743913],\n",
       "       [-1.355237  ],\n",
       "       [ 0.04392311],\n",
       "       [ 0.37072378],\n",
       "       [-0.04388554],\n",
       "       [-0.99627196],\n",
       "       [ 0.34068803],\n",
       "       [-0.63303264]])"
      ]
     },
     "execution_count": 43,
     "metadata": {},
     "output_type": "execute_result"
    }
   ],
   "source": [
    "from operator import concat\n",
    "\n",
    "\n",
    "def supervisada(serie,retrasos = 1):\n",
    "    serie_x = []\n",
    "    serie_y = []\n",
    "    for i in range(len(serie)-retrasos):\n",
    "        valor = serie[i:(i+retrasos),0]\n",
    "        valor_sig = serie[i+retrasos,0]\n",
    "        serie_x.append(valor)\n",
    "        serie_y.append(valor_sig)\n",
    "    return np.array(serie_x), np.array(serie_y)\n",
    "\n",
    "x_train,y_train = supervisada(train)\n",
    "x_val,y_val = supervisada(validation)\n",
    "x_test,y_test = supervisada(test)\n",
    "\n",
    "x_train"
   ]
  },
  {
   "cell_type": "markdown",
   "id": "44069bfe",
   "metadata": {},
   "source": [
    "## Creacion del modelo "
   ]
  },
  {
   "cell_type": "markdown",
   "id": "1c0ca7b1",
   "metadata": {},
   "source": [
    "#### Modelo 1 "
   ]
  },
  {
   "cell_type": "code",
   "execution_count": 45,
   "id": "bc538c3f",
   "metadata": {},
   "outputs": [
    {
     "data": {
      "text/plain": [
       "3"
      ]
     },
     "execution_count": 45,
     "metadata": {},
     "output_type": "execute_result"
    }
   ],
   "source": [
    "(x_train.shape[0],1,1)\n",
    "x_train = np.reshape(x_train,(x_train.shape[0],1,1))\n",
    "x_val = np.reshape(x_val, (x_val.shape[0],1,1))\n",
    "x_test = np.reshape(x_test, (x_test.shape[0],1,1))\n",
    "len(x_val)"
   ]
  },
  {
   "cell_type": "code",
   "execution_count": 46,
   "id": "6c27dad9",
   "metadata": {},
   "outputs": [
    {
     "name": "stderr",
     "output_type": "stream",
     "text": [
      "c:\\Users\\Francis\\OneDrive - UVG\\Francis\\2025\\Semestre 8\\Data Science\\lab2-ds\\venv\\Lib\\site-packages\\keras\\src\\layers\\rnn\\rnn.py:199: UserWarning: Do not pass an `input_shape`/`input_dim` argument to a layer. When using Sequential models, prefer using an `Input(shape)` object as the first layer in the model instead.\n",
      "  super().__init__(**kwargs)\n"
     ]
    },
    {
     "data": {
      "text/html": [
       "<pre style=\"white-space:pre;overflow-x:auto;line-height:normal;font-family:Menlo,'DejaVu Sans Mono',consolas,'Courier New',monospace\"><span style=\"font-weight: bold\">Model: \"sequential\"</span>\n",
       "</pre>\n"
      ],
      "text/plain": [
       "\u001b[1mModel: \"sequential\"\u001b[0m\n"
      ]
     },
     "metadata": {},
     "output_type": "display_data"
    },
    {
     "data": {
      "text/html": [
       "<pre style=\"white-space:pre;overflow-x:auto;line-height:normal;font-family:Menlo,'DejaVu Sans Mono',consolas,'Courier New',monospace\">┏━━━━━━━━━━━━━━━━━━━━━━━━━━━━━━━━━┳━━━━━━━━━━━━━━━━━━━━━━━━┳━━━━━━━━━━━━━━━┓\n",
       "┃<span style=\"font-weight: bold\"> Layer (type)                    </span>┃<span style=\"font-weight: bold\"> Output Shape           </span>┃<span style=\"font-weight: bold\">       Param # </span>┃\n",
       "┡━━━━━━━━━━━━━━━━━━━━━━━━━━━━━━━━━╇━━━━━━━━━━━━━━━━━━━━━━━━╇━━━━━━━━━━━━━━━┩\n",
       "│ lstm (<span style=\"color: #0087ff; text-decoration-color: #0087ff\">LSTM</span>)                     │ (<span style=\"color: #00d7ff; text-decoration-color: #00d7ff\">None</span>, <span style=\"color: #00af00; text-decoration-color: #00af00\">10</span>)             │           <span style=\"color: #00af00; text-decoration-color: #00af00\">480</span> │\n",
       "├─────────────────────────────────┼────────────────────────┼───────────────┤\n",
       "│ dense (<span style=\"color: #0087ff; text-decoration-color: #0087ff\">Dense</span>)                   │ (<span style=\"color: #00d7ff; text-decoration-color: #00d7ff\">None</span>, <span style=\"color: #00af00; text-decoration-color: #00af00\">1</span>)              │            <span style=\"color: #00af00; text-decoration-color: #00af00\">11</span> │\n",
       "└─────────────────────────────────┴────────────────────────┴───────────────┘\n",
       "</pre>\n"
      ],
      "text/plain": [
       "┏━━━━━━━━━━━━━━━━━━━━━━━━━━━━━━━━━┳━━━━━━━━━━━━━━━━━━━━━━━━┳━━━━━━━━━━━━━━━┓\n",
       "┃\u001b[1m \u001b[0m\u001b[1mLayer (type)                   \u001b[0m\u001b[1m \u001b[0m┃\u001b[1m \u001b[0m\u001b[1mOutput Shape          \u001b[0m\u001b[1m \u001b[0m┃\u001b[1m \u001b[0m\u001b[1m      Param #\u001b[0m\u001b[1m \u001b[0m┃\n",
       "┡━━━━━━━━━━━━━━━━━━━━━━━━━━━━━━━━━╇━━━━━━━━━━━━━━━━━━━━━━━━╇━━━━━━━━━━━━━━━┩\n",
       "│ lstm (\u001b[38;5;33mLSTM\u001b[0m)                     │ (\u001b[38;5;45mNone\u001b[0m, \u001b[38;5;34m10\u001b[0m)             │           \u001b[38;5;34m480\u001b[0m │\n",
       "├─────────────────────────────────┼────────────────────────┼───────────────┤\n",
       "│ dense (\u001b[38;5;33mDense\u001b[0m)                   │ (\u001b[38;5;45mNone\u001b[0m, \u001b[38;5;34m1\u001b[0m)              │            \u001b[38;5;34m11\u001b[0m │\n",
       "└─────────────────────────────────┴────────────────────────┴───────────────┘\n"
      ]
     },
     "metadata": {},
     "output_type": "display_data"
    },
    {
     "data": {
      "text/html": [
       "<pre style=\"white-space:pre;overflow-x:auto;line-height:normal;font-family:Menlo,'DejaVu Sans Mono',consolas,'Courier New',monospace\"><span style=\"font-weight: bold\"> Total params: </span><span style=\"color: #00af00; text-decoration-color: #00af00\">491</span> (1.92 KB)\n",
       "</pre>\n"
      ],
      "text/plain": [
       "\u001b[1m Total params: \u001b[0m\u001b[38;5;34m491\u001b[0m (1.92 KB)\n"
      ]
     },
     "metadata": {},
     "output_type": "display_data"
    },
    {
     "data": {
      "text/html": [
       "<pre style=\"white-space:pre;overflow-x:auto;line-height:normal;font-family:Menlo,'DejaVu Sans Mono',consolas,'Courier New',monospace\"><span style=\"font-weight: bold\"> Trainable params: </span><span style=\"color: #00af00; text-decoration-color: #00af00\">491</span> (1.92 KB)\n",
       "</pre>\n"
      ],
      "text/plain": [
       "\u001b[1m Trainable params: \u001b[0m\u001b[38;5;34m491\u001b[0m (1.92 KB)\n"
      ]
     },
     "metadata": {},
     "output_type": "display_data"
    },
    {
     "data": {
      "text/html": [
       "<pre style=\"white-space:pre;overflow-x:auto;line-height:normal;font-family:Menlo,'DejaVu Sans Mono',consolas,'Courier New',monospace\"><span style=\"font-weight: bold\"> Non-trainable params: </span><span style=\"color: #00af00; text-decoration-color: #00af00\">0</span> (0.00 B)\n",
       "</pre>\n"
      ],
      "text/plain": [
       "\u001b[1m Non-trainable params: \u001b[0m\u001b[38;5;34m0\u001b[0m (0.00 B)\n"
      ]
     },
     "metadata": {},
     "output_type": "display_data"
    }
   ],
   "source": [
    "unidades =  10\n",
    "paso = 1 # lags, 1 lag es un mes. \n",
    "caracteristicas = 1 # es univariada\n",
    "lote = 1\n",
    "\n",
    "\n",
    "modelo1 = Sequential()\n",
    "modelo1.add(LSTM(\n",
    "    units=unidades, \n",
    "    input_shape=(paso, caracteristicas), \n",
    "    stateful=False  # desactivamos estado entre batches\n",
    "))\n",
    "\n",
    "# modelo1.add(LSTM(\n",
    "#     units=unidades, \n",
    "#     batch_input_shape=(lote, paso, caracteristicas), \n",
    "#     stateful=True  # activamos estado entre batches\n",
    "# ))\n",
    "modelo1.add(Dense(1))\n",
    "modelo1.summary()"
   ]
  },
  {
   "cell_type": "code",
   "execution_count": 47,
   "id": "694e062a",
   "metadata": {},
   "outputs": [],
   "source": [
    "modelo1.compile(loss='mean_squared_error',optimizer=\"rmsprop\")"
   ]
  },
  {
   "cell_type": "code",
   "execution_count": 48,
   "id": "2380ed9b",
   "metadata": {},
   "outputs": [
    {
     "name": "stdout",
     "output_type": "stream",
     "text": [
      "Epoch 1/50\n",
      "\u001b[1m13/13\u001b[0m \u001b[32m━━━━━━━━━━━━━━━━━━━━\u001b[0m\u001b[37m\u001b[0m \u001b[1m3s\u001b[0m 49ms/step - loss: 0.2988 - val_loss: 0.0421\n",
      "Epoch 2/50\n",
      "\u001b[1m13/13\u001b[0m \u001b[32m━━━━━━━━━━━━━━━━━━━━\u001b[0m\u001b[37m\u001b[0m \u001b[1m0s\u001b[0m 12ms/step - loss: 0.2959 - val_loss: 0.0425\n",
      "Epoch 3/50\n",
      "\u001b[1m13/13\u001b[0m \u001b[32m━━━━━━━━━━━━━━━━━━━━\u001b[0m\u001b[37m\u001b[0m \u001b[1m0s\u001b[0m 13ms/step - loss: 0.2953 - val_loss: 0.0429\n",
      "Epoch 4/50\n",
      "\u001b[1m13/13\u001b[0m \u001b[32m━━━━━━━━━━━━━━━━━━━━\u001b[0m\u001b[37m\u001b[0m \u001b[1m0s\u001b[0m 13ms/step - loss: 0.2948 - val_loss: 0.0433\n",
      "Epoch 5/50\n",
      "\u001b[1m13/13\u001b[0m \u001b[32m━━━━━━━━━━━━━━━━━━━━\u001b[0m\u001b[37m\u001b[0m \u001b[1m0s\u001b[0m 17ms/step - loss: 0.2943 - val_loss: 0.0437\n",
      "Epoch 6/50\n",
      "\u001b[1m13/13\u001b[0m \u001b[32m━━━━━━━━━━━━━━━━━━━━\u001b[0m\u001b[37m\u001b[0m \u001b[1m0s\u001b[0m 15ms/step - loss: 0.2938 - val_loss: 0.0441\n",
      "Epoch 7/50\n",
      "\u001b[1m13/13\u001b[0m \u001b[32m━━━━━━━━━━━━━━━━━━━━\u001b[0m\u001b[37m\u001b[0m \u001b[1m0s\u001b[0m 15ms/step - loss: 0.2934 - val_loss: 0.0445\n",
      "Epoch 8/50\n",
      "\u001b[1m13/13\u001b[0m \u001b[32m━━━━━━━━━━━━━━━━━━━━\u001b[0m\u001b[37m\u001b[0m \u001b[1m0s\u001b[0m 16ms/step - loss: 0.2929 - val_loss: 0.0449\n",
      "Epoch 9/50\n",
      "\u001b[1m13/13\u001b[0m \u001b[32m━━━━━━━━━━━━━━━━━━━━\u001b[0m\u001b[37m\u001b[0m \u001b[1m0s\u001b[0m 13ms/step - loss: 0.2925 - val_loss: 0.0453\n",
      "Epoch 10/50\n",
      "\u001b[1m13/13\u001b[0m \u001b[32m━━━━━━━━━━━━━━━━━━━━\u001b[0m\u001b[37m\u001b[0m \u001b[1m0s\u001b[0m 10ms/step - loss: 0.2921 - val_loss: 0.0457\n",
      "Epoch 11/50\n",
      "\u001b[1m13/13\u001b[0m \u001b[32m━━━━━━━━━━━━━━━━━━━━\u001b[0m\u001b[37m\u001b[0m \u001b[1m0s\u001b[0m 13ms/step - loss: 0.2917 - val_loss: 0.0461\n",
      "Epoch 12/50\n",
      "\u001b[1m13/13\u001b[0m \u001b[32m━━━━━━━━━━━━━━━━━━━━\u001b[0m\u001b[37m\u001b[0m \u001b[1m0s\u001b[0m 12ms/step - loss: 0.2912 - val_loss: 0.0465\n",
      "Epoch 13/50\n",
      "\u001b[1m13/13\u001b[0m \u001b[32m━━━━━━━━━━━━━━━━━━━━\u001b[0m\u001b[37m\u001b[0m \u001b[1m0s\u001b[0m 13ms/step - loss: 0.2908 - val_loss: 0.0469\n",
      "Epoch 14/50\n",
      "\u001b[1m13/13\u001b[0m \u001b[32m━━━━━━━━━━━━━━━━━━━━\u001b[0m\u001b[37m\u001b[0m \u001b[1m0s\u001b[0m 15ms/step - loss: 0.2904 - val_loss: 0.0473\n",
      "Epoch 15/50\n",
      "\u001b[1m13/13\u001b[0m \u001b[32m━━━━━━━━━━━━━━━━━━━━\u001b[0m\u001b[37m\u001b[0m \u001b[1m0s\u001b[0m 13ms/step - loss: 0.2901 - val_loss: 0.0477\n",
      "Epoch 16/50\n",
      "\u001b[1m13/13\u001b[0m \u001b[32m━━━━━━━━━━━━━━━━━━━━\u001b[0m\u001b[37m\u001b[0m \u001b[1m0s\u001b[0m 15ms/step - loss: 0.2897 - val_loss: 0.0481\n",
      "Epoch 17/50\n",
      "\u001b[1m13/13\u001b[0m \u001b[32m━━━━━━━━━━━━━━━━━━━━\u001b[0m\u001b[37m\u001b[0m \u001b[1m0s\u001b[0m 12ms/step - loss: 0.2893 - val_loss: 0.0485\n",
      "Epoch 18/50\n",
      "\u001b[1m13/13\u001b[0m \u001b[32m━━━━━━━━━━━━━━━━━━━━\u001b[0m\u001b[37m\u001b[0m \u001b[1m0s\u001b[0m 13ms/step - loss: 0.2889 - val_loss: 0.0490\n",
      "Epoch 19/50\n",
      "\u001b[1m13/13\u001b[0m \u001b[32m━━━━━━━━━━━━━━━━━━━━\u001b[0m\u001b[37m\u001b[0m \u001b[1m0s\u001b[0m 10ms/step - loss: 0.2886 - val_loss: 0.0494\n",
      "Epoch 20/50\n",
      "\u001b[1m13/13\u001b[0m \u001b[32m━━━━━━━━━━━━━━━━━━━━\u001b[0m\u001b[37m\u001b[0m \u001b[1m0s\u001b[0m 16ms/step - loss: 0.2882 - val_loss: 0.0498\n",
      "Epoch 21/50\n",
      "\u001b[1m13/13\u001b[0m \u001b[32m━━━━━━━━━━━━━━━━━━━━\u001b[0m\u001b[37m\u001b[0m \u001b[1m0s\u001b[0m 16ms/step - loss: 0.2878 - val_loss: 0.0502\n",
      "Epoch 22/50\n",
      "\u001b[1m13/13\u001b[0m \u001b[32m━━━━━━━━━━━━━━━━━━━━\u001b[0m\u001b[37m\u001b[0m \u001b[1m0s\u001b[0m 16ms/step - loss: 0.2875 - val_loss: 0.0507\n",
      "Epoch 23/50\n",
      "\u001b[1m13/13\u001b[0m \u001b[32m━━━━━━━━━━━━━━━━━━━━\u001b[0m\u001b[37m\u001b[0m \u001b[1m0s\u001b[0m 17ms/step - loss: 0.2871 - val_loss: 0.0511\n",
      "Epoch 24/50\n",
      "\u001b[1m13/13\u001b[0m \u001b[32m━━━━━━━━━━━━━━━━━━━━\u001b[0m\u001b[37m\u001b[0m \u001b[1m0s\u001b[0m 18ms/step - loss: 0.2868 - val_loss: 0.0516\n",
      "Epoch 25/50\n",
      "\u001b[1m13/13\u001b[0m \u001b[32m━━━━━━━━━━━━━━━━━━━━\u001b[0m\u001b[37m\u001b[0m \u001b[1m0s\u001b[0m 15ms/step - loss: 0.2865 - val_loss: 0.0520\n",
      "Epoch 26/50\n",
      "\u001b[1m13/13\u001b[0m \u001b[32m━━━━━━━━━━━━━━━━━━━━\u001b[0m\u001b[37m\u001b[0m \u001b[1m0s\u001b[0m 16ms/step - loss: 0.2861 - val_loss: 0.0525\n",
      "Epoch 27/50\n",
      "\u001b[1m13/13\u001b[0m \u001b[32m━━━━━━━━━━━━━━━━━━━━\u001b[0m\u001b[37m\u001b[0m \u001b[1m0s\u001b[0m 16ms/step - loss: 0.2858 - val_loss: 0.0529\n",
      "Epoch 28/50\n",
      "\u001b[1m13/13\u001b[0m \u001b[32m━━━━━━━━━━━━━━━━━━━━\u001b[0m\u001b[37m\u001b[0m \u001b[1m0s\u001b[0m 11ms/step - loss: 0.2855 - val_loss: 0.0534\n",
      "Epoch 29/50\n",
      "\u001b[1m13/13\u001b[0m \u001b[32m━━━━━━━━━━━━━━━━━━━━\u001b[0m\u001b[37m\u001b[0m \u001b[1m0s\u001b[0m 11ms/step - loss: 0.2852 - val_loss: 0.0538\n",
      "Epoch 30/50\n",
      "\u001b[1m13/13\u001b[0m \u001b[32m━━━━━━━━━━━━━━━━━━━━\u001b[0m\u001b[37m\u001b[0m \u001b[1m0s\u001b[0m 13ms/step - loss: 0.2848 - val_loss: 0.0543\n",
      "Epoch 31/50\n",
      "\u001b[1m13/13\u001b[0m \u001b[32m━━━━━━━━━━━━━━━━━━━━\u001b[0m\u001b[37m\u001b[0m \u001b[1m0s\u001b[0m 13ms/step - loss: 0.2845 - val_loss: 0.0547\n",
      "Epoch 32/50\n",
      "\u001b[1m13/13\u001b[0m \u001b[32m━━━━━━━━━━━━━━━━━━━━\u001b[0m\u001b[37m\u001b[0m \u001b[1m0s\u001b[0m 12ms/step - loss: 0.2842 - val_loss: 0.0552\n",
      "Epoch 33/50\n",
      "\u001b[1m13/13\u001b[0m \u001b[32m━━━━━━━━━━━━━━━━━━━━\u001b[0m\u001b[37m\u001b[0m \u001b[1m0s\u001b[0m 13ms/step - loss: 0.2839 - val_loss: 0.0557\n",
      "Epoch 34/50\n",
      "\u001b[1m13/13\u001b[0m \u001b[32m━━━━━━━━━━━━━━━━━━━━\u001b[0m\u001b[37m\u001b[0m \u001b[1m0s\u001b[0m 12ms/step - loss: 0.2836 - val_loss: 0.0561\n",
      "Epoch 35/50\n",
      "\u001b[1m13/13\u001b[0m \u001b[32m━━━━━━━━━━━━━━━━━━━━\u001b[0m\u001b[37m\u001b[0m \u001b[1m0s\u001b[0m 11ms/step - loss: 0.2834 - val_loss: 0.0566\n",
      "Epoch 36/50\n",
      "\u001b[1m13/13\u001b[0m \u001b[32m━━━━━━━━━━━━━━━━━━━━\u001b[0m\u001b[37m\u001b[0m \u001b[1m0s\u001b[0m 13ms/step - loss: 0.2831 - val_loss: 0.0571\n",
      "Epoch 37/50\n",
      "\u001b[1m13/13\u001b[0m \u001b[32m━━━━━━━━━━━━━━━━━━━━\u001b[0m\u001b[37m\u001b[0m \u001b[1m0s\u001b[0m 15ms/step - loss: 0.2828 - val_loss: 0.0576\n",
      "Epoch 38/50\n",
      "\u001b[1m13/13\u001b[0m \u001b[32m━━━━━━━━━━━━━━━━━━━━\u001b[0m\u001b[37m\u001b[0m \u001b[1m0s\u001b[0m 16ms/step - loss: 0.2825 - val_loss: 0.0581\n",
      "Epoch 39/50\n",
      "\u001b[1m13/13\u001b[0m \u001b[32m━━━━━━━━━━━━━━━━━━━━\u001b[0m\u001b[37m\u001b[0m \u001b[1m0s\u001b[0m 11ms/step - loss: 0.2822 - val_loss: 0.0585\n",
      "Epoch 40/50\n",
      "\u001b[1m13/13\u001b[0m \u001b[32m━━━━━━━━━━━━━━━━━━━━\u001b[0m\u001b[37m\u001b[0m \u001b[1m0s\u001b[0m 10ms/step - loss: 0.2820 - val_loss: 0.0590\n",
      "Epoch 41/50\n",
      "\u001b[1m13/13\u001b[0m \u001b[32m━━━━━━━━━━━━━━━━━━━━\u001b[0m\u001b[37m\u001b[0m \u001b[1m0s\u001b[0m 14ms/step - loss: 0.2817 - val_loss: 0.0595\n",
      "Epoch 42/50\n",
      "\u001b[1m13/13\u001b[0m \u001b[32m━━━━━━━━━━━━━━━━━━━━\u001b[0m\u001b[37m\u001b[0m \u001b[1m0s\u001b[0m 11ms/step - loss: 0.2814 - val_loss: 0.0600\n",
      "Epoch 43/50\n",
      "\u001b[1m13/13\u001b[0m \u001b[32m━━━━━━━━━━━━━━━━━━━━\u001b[0m\u001b[37m\u001b[0m \u001b[1m0s\u001b[0m 14ms/step - loss: 0.2812 - val_loss: 0.0605\n",
      "Epoch 44/50\n",
      "\u001b[1m13/13\u001b[0m \u001b[32m━━━━━━━━━━━━━━━━━━━━\u001b[0m\u001b[37m\u001b[0m \u001b[1m0s\u001b[0m 16ms/step - loss: 0.2809 - val_loss: 0.0610\n",
      "Epoch 45/50\n",
      "\u001b[1m13/13\u001b[0m \u001b[32m━━━━━━━━━━━━━━━━━━━━\u001b[0m\u001b[37m\u001b[0m \u001b[1m0s\u001b[0m 12ms/step - loss: 0.2807 - val_loss: 0.0615\n",
      "Epoch 46/50\n",
      "\u001b[1m13/13\u001b[0m \u001b[32m━━━━━━━━━━━━━━━━━━━━\u001b[0m\u001b[37m\u001b[0m \u001b[1m0s\u001b[0m 14ms/step - loss: 0.2804 - val_loss: 0.0620\n",
      "Epoch 47/50\n",
      "\u001b[1m13/13\u001b[0m \u001b[32m━━━━━━━━━━━━━━━━━━━━\u001b[0m\u001b[37m\u001b[0m \u001b[1m0s\u001b[0m 10ms/step - loss: 0.2802 - val_loss: 0.0626\n",
      "Epoch 48/50\n",
      "\u001b[1m13/13\u001b[0m \u001b[32m━━━━━━━━━━━━━━━━━━━━\u001b[0m\u001b[37m\u001b[0m \u001b[1m0s\u001b[0m 12ms/step - loss: 0.2799 - val_loss: 0.0631\n",
      "Epoch 49/50\n",
      "\u001b[1m13/13\u001b[0m \u001b[32m━━━━━━━━━━━━━━━━━━━━\u001b[0m\u001b[37m\u001b[0m \u001b[1m0s\u001b[0m 10ms/step - loss: 0.2797 - val_loss: 0.0636\n",
      "Epoch 50/50\n",
      "\u001b[1m13/13\u001b[0m \u001b[32m━━━━━━━━━━━━━━━━━━━━\u001b[0m\u001b[37m\u001b[0m \u001b[1m0s\u001b[0m 11ms/step - loss: 0.2794 - val_loss: 0.0641\n"
     ]
    }
   ],
   "source": [
    "epocas = 50\n",
    "history= modelo1.fit(\n",
    "    x = x_train,\n",
    "    y = y_train,\n",
    "    batch_size = lote,\n",
    "    epochs = epocas,\n",
    "    shuffle = False,\n",
    "    validation_data = (x_val,y_val),\n",
    "    verbose=1\n",
    ")"
   ]
  },
  {
   "cell_type": "code",
   "execution_count": 49,
   "id": "32877d4f",
   "metadata": {},
   "outputs": [
    {
     "data": {
      "text/plain": [
       "<matplotlib.legend.Legend at 0x24d8433e8d0>"
      ]
     },
     "execution_count": 49,
     "metadata": {},
     "output_type": "execute_result"
    },
    {
     "data": {
      "image/png": "[encoded data removed]",
      "text/plain": [
       "<Figure size 640x480 with 1 Axes>"
      ]
     },
     "metadata": {},
     "output_type": "display_data"
    }
   ],
   "source": [
    "plt.plot(history.history['loss'])\n",
    "plt.plot(history.history['val_loss'])\n",
    "plt.title('model loss')\n",
    "plt.ylabel('loss')\n",
    "plt.xlabel('epoch')\n",
    "plt.legend(['train', 'val'], loc='center')"
   ]
  },
  {
   "cell_type": "markdown",
   "id": "a87782f9",
   "metadata": {},
   "source": [
    "#### Modelo 2"
   ]
  },
  {
   "cell_type": "code",
   "execution_count": 50,
   "id": "0cde4640",
   "metadata": {},
   "outputs": [
    {
     "data": {
      "text/html": [
       "<pre style=\"white-space:pre;overflow-x:auto;line-height:normal;font-family:Menlo,'DejaVu Sans Mono',consolas,'Courier New',monospace\"><span style=\"font-weight: bold\">Model: \"sequential_1\"</span>\n",
       "</pre>\n"
      ],
      "text/plain": [
       "\u001b[1mModel: \"sequential_1\"\u001b[0m\n"
      ]
     },
     "metadata": {},
     "output_type": "display_data"
    },
    {
     "data": {
      "text/html": [
       "<pre style=\"white-space:pre;overflow-x:auto;line-height:normal;font-family:Menlo,'DejaVu Sans Mono',consolas,'Courier New',monospace\">┏━━━━━━━━━━━━━━━━━━━━━━━━━━━━━━━━━┳━━━━━━━━━━━━━━━━━━━━━━━━┳━━━━━━━━━━━━━━━┓\n",
       "┃<span style=\"font-weight: bold\"> Layer (type)                    </span>┃<span style=\"font-weight: bold\"> Output Shape           </span>┃<span style=\"font-weight: bold\">       Param # </span>┃\n",
       "┡━━━━━━━━━━━━━━━━━━━━━━━━━━━━━━━━━╇━━━━━━━━━━━━━━━━━━━━━━━━╇━━━━━━━━━━━━━━━┩\n",
       "│ lstm_1 (<span style=\"color: #0087ff; text-decoration-color: #0087ff\">LSTM</span>)                   │ (<span style=\"color: #00d7ff; text-decoration-color: #00d7ff\">None</span>, <span style=\"color: #00af00; text-decoration-color: #00af00\">1</span>, <span style=\"color: #00af00; text-decoration-color: #00af00\">10</span>)          │           <span style=\"color: #00af00; text-decoration-color: #00af00\">480</span> │\n",
       "├─────────────────────────────────┼────────────────────────┼───────────────┤\n",
       "│ dropout (<span style=\"color: #0087ff; text-decoration-color: #0087ff\">Dropout</span>)               │ (<span style=\"color: #00d7ff; text-decoration-color: #00d7ff\">None</span>, <span style=\"color: #00af00; text-decoration-color: #00af00\">1</span>, <span style=\"color: #00af00; text-decoration-color: #00af00\">10</span>)          │             <span style=\"color: #00af00; text-decoration-color: #00af00\">0</span> │\n",
       "├─────────────────────────────────┼────────────────────────┼───────────────┤\n",
       "│ lstm_2 (<span style=\"color: #0087ff; text-decoration-color: #0087ff\">LSTM</span>)                   │ (<span style=\"color: #00d7ff; text-decoration-color: #00d7ff\">None</span>, <span style=\"color: #00af00; text-decoration-color: #00af00\">10</span>)             │           <span style=\"color: #00af00; text-decoration-color: #00af00\">840</span> │\n",
       "├─────────────────────────────────┼────────────────────────┼───────────────┤\n",
       "│ dropout_1 (<span style=\"color: #0087ff; text-decoration-color: #0087ff\">Dropout</span>)             │ (<span style=\"color: #00d7ff; text-decoration-color: #00d7ff\">None</span>, <span style=\"color: #00af00; text-decoration-color: #00af00\">10</span>)             │             <span style=\"color: #00af00; text-decoration-color: #00af00\">0</span> │\n",
       "├─────────────────────────────────┼────────────────────────┼───────────────┤\n",
       "│ dense_1 (<span style=\"color: #0087ff; text-decoration-color: #0087ff\">Dense</span>)                 │ (<span style=\"color: #00d7ff; text-decoration-color: #00d7ff\">None</span>, <span style=\"color: #00af00; text-decoration-color: #00af00\">1</span>)              │            <span style=\"color: #00af00; text-decoration-color: #00af00\">11</span> │\n",
       "└─────────────────────────────────┴────────────────────────┴───────────────┘\n",
       "</pre>\n"
      ],
      "text/plain": [
       "┏━━━━━━━━━━━━━━━━━━━━━━━━━━━━━━━━━┳━━━━━━━━━━━━━━━━━━━━━━━━┳━━━━━━━━━━━━━━━┓\n",
       "┃\u001b[1m \u001b[0m\u001b[1mLayer (type)                   \u001b[0m\u001b[1m \u001b[0m┃\u001b[1m \u001b[0m\u001b[1mOutput Shape          \u001b[0m\u001b[1m \u001b[0m┃\u001b[1m \u001b[0m\u001b[1m      Param #\u001b[0m\u001b[1m \u001b[0m┃\n",
       "┡━━━━━━━━━━━━━━━━━━━━━━━━━━━━━━━━━╇━━━━━━━━━━━━━━━━━━━━━━━━╇━━━━━━━━━━━━━━━┩\n",
       "│ lstm_1 (\u001b[38;5;33mLSTM\u001b[0m)                   │ (\u001b[38;5;45mNone\u001b[0m, \u001b[38;5;34m1\u001b[0m, \u001b[38;5;34m10\u001b[0m)          │           \u001b[38;5;34m480\u001b[0m │\n",
       "├─────────────────────────────────┼────────────────────────┼───────────────┤\n",
       "│ dropout (\u001b[38;5;33mDropout\u001b[0m)               │ (\u001b[38;5;45mNone\u001b[0m, \u001b[38;5;34m1\u001b[0m, \u001b[38;5;34m10\u001b[0m)          │             \u001b[38;5;34m0\u001b[0m │\n",
       "├─────────────────────────────────┼────────────────────────┼───────────────┤\n",
       "│ lstm_2 (\u001b[38;5;33mLSTM\u001b[0m)                   │ (\u001b[38;5;45mNone\u001b[0m, \u001b[38;5;34m10\u001b[0m)             │           \u001b[38;5;34m840\u001b[0m │\n",
       "├─────────────────────────────────┼────────────────────────┼───────────────┤\n",
       "│ dropout_1 (\u001b[38;5;33mDropout\u001b[0m)             │ (\u001b[38;5;45mNone\u001b[0m, \u001b[38;5;34m10\u001b[0m)             │             \u001b[38;5;34m0\u001b[0m │\n",
       "├─────────────────────────────────┼────────────────────────┼───────────────┤\n",
       "│ dense_1 (\u001b[38;5;33mDense\u001b[0m)                 │ (\u001b[38;5;45mNone\u001b[0m, \u001b[38;5;34m1\u001b[0m)              │            \u001b[38;5;34m11\u001b[0m │\n",
       "└─────────────────────────────────┴────────────────────────┴───────────────┘\n"
      ]
     },
     "metadata": {},
     "output_type": "display_data"
    },
    {
     "data": {
      "text/html": [
       "<pre style=\"white-space:pre;overflow-x:auto;line-height:normal;font-family:Menlo,'DejaVu Sans Mono',consolas,'Courier New',monospace\"><span style=\"font-weight: bold\"> Total params: </span><span style=\"color: #00af00; text-decoration-color: #00af00\">1,331</span> (5.20 KB)\n",
       "</pre>\n"
      ],
      "text/plain": [
       "\u001b[1m Total params: \u001b[0m\u001b[38;5;34m1,331\u001b[0m (5.20 KB)\n"
      ]
     },
     "metadata": {},
     "output_type": "display_data"
    },
    {
     "data": {
      "text/html": [
       "<pre style=\"white-space:pre;overflow-x:auto;line-height:normal;font-family:Menlo,'DejaVu Sans Mono',consolas,'Courier New',monospace\"><span style=\"font-weight: bold\"> Trainable params: </span><span style=\"color: #00af00; text-decoration-color: #00af00\">1,331</span> (5.20 KB)\n",
       "</pre>\n"
      ],
      "text/plain": [
       "\u001b[1m Trainable params: \u001b[0m\u001b[38;5;34m1,331\u001b[0m (5.20 KB)\n"
      ]
     },
     "metadata": {},
     "output_type": "display_data"
    },
    {
     "data": {
      "text/html": [
       "<pre style=\"white-space:pre;overflow-x:auto;line-height:normal;font-family:Menlo,'DejaVu Sans Mono',consolas,'Courier New',monospace\"><span style=\"font-weight: bold\"> Non-trainable params: </span><span style=\"color: #00af00; text-decoration-color: #00af00\">0</span> (0.00 B)\n",
       "</pre>\n"
      ],
      "text/plain": [
       "\u001b[1m Non-trainable params: \u001b[0m\u001b[38;5;34m0\u001b[0m (0.00 B)\n"
      ]
     },
     "metadata": {},
     "output_type": "display_data"
    }
   ],
   "source": [
    "from tensorflow.keras.models import Sequential\n",
    "from tensorflow.keras.layers import LSTM, Dense, Dropout\n",
    "\n",
    "\n",
    "unidades = 10\n",
    "paso = 1\n",
    "caracteristicas = 1\n",
    "\n",
    "modelo2 = Sequential()\n",
    "modelo2.add(LSTM(\n",
    "    units=unidades,\n",
    "    return_sequences=True,  # importante para encadenar otra LSTM\n",
    "    input_shape=(paso, caracteristicas),\n",
    "    stateful=False\n",
    "))\n",
    "modelo2.add(Dropout(0.2))  # regularización\n",
    "\n",
    "modelo2.add(LSTM(\n",
    "    units=unidades,\n",
    "    return_sequences=False  # ahora sí, no se necesita devolver secuencia\n",
    "))\n",
    "modelo2.add(Dropout(0.2))\n",
    "\n",
    "modelo2.add(Dense(1))  # salida univariada\n",
    "\n",
    "modelo2.summary()"
   ]
  }
 ],
 "metadata": {
  "kernelspec": {
   "display_name": "venv",
   "language": "python",
   "name": "python3"
  },
  "language_info": {
   "codemirror_mode": {
    "name": "ipython",
    "version": 3
   },
   "file_extension": ".py",
   "mimetype": "text/x-python",
   "name": "python",
   "nbconvert_exporter": "python",
   "pygments_lexer": "ipython3",
   "version": "3.12.10"
  }
 },
 "nbformat": 4,
 "nbformat_minor": 5
}
